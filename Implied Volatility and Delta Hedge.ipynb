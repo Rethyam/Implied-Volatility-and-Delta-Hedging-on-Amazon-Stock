{
 "cells": [
  {
   "cell_type": "markdown",
   "id": "9cfb81ba",
   "metadata": {},
   "source": [
    "# Importing packages"
   ]
  },
  {
   "cell_type": "code",
   "execution_count": 1,
   "id": "95b9a108",
   "metadata": {},
   "outputs": [],
   "source": [
    "# Import data reader to directly convert Yahoo Finance data into dataframe\n",
    "import yfinance as yf\n",
    "import yahoo_fin\n",
    "from yahoo_fin import options"
   ]
  },
  {
   "cell_type": "code",
   "execution_count": 2,
   "id": "60c0d7f5",
   "metadata": {},
   "outputs": [],
   "source": [
    "import pandas as pd\n",
    "import numpy as np\n",
    "import matplotlib.pyplot as plt\n",
    "%matplotlib inline\n",
    "from matplotlib import style\n",
    "import seaborn as sns\n",
    "from datetime import datetime\n",
    "from functools import reduce\n",
    "\n",
    "# Import data reader to directly convert Yahoo Finance data into dataframe\n",
    "from pandas_datareader import data as pdr\n",
    "yf.pdr_override()\n",
    "\n",
    "from sklearn.metrics import mean_absolute_error, mean_squared_error\n",
    "import scipy.stats\n",
    "from scipy.stats import norm\n",
    "from math import log, sqrt, pi, exp\n",
    "\n",
    "sns.set_style('darkgrid')\n",
    "\n",
    "style.use('fivethirtyeight')\n",
    "\n",
    "pd.set_option('display.max_columns', None)\n",
    "pd.set_option('display.max_rows', None)"
   ]
  },
  {
   "cell_type": "markdown",
   "id": "6d62cbb6",
   "metadata": {},
   "source": [
    "# Collecting data"
   ]
  },
  {
   "cell_type": "code",
   "execution_count": null,
   "id": "6c7ac520",
   "metadata": {},
   "outputs": [],
   "source": [
    "def stock_prices_returns(ticker, start_date, end_date):\n",
    "    global stock\n",
    "    stock = pdr.get_data_yahoo(ticker, start = start_date, end = end_date)[['Adj Close']]\n",
    "    stock['return'] = stock.pct_change()\n",
    "    stock.dropna(inplace = True)\n",
    "    return stock\n",
    "\n",
    "tickerSymbol = 'AMZN'\n",
    "\n",
    "stock_prices_returns(tickerSymbol, '2021-06-01', '2022-04-15')"
   ]
  },
  {
   "cell_type": "code",
   "execution_count": null,
   "id": "4f051cca",
   "metadata": {},
   "outputs": [],
   "source": [
    "#plot\n",
    "fig, ax = plt.subplots(figsize=(12,6))\n",
    "ax.plot(stock['Adj Close'], color = 'turquoise')\n",
    "ax.set(title = tickerSymbol, ylabel = 'Price per share')"
   ]
  },
  {
   "cell_type": "code",
   "execution_count": null,
   "id": "bcb8801c",
   "metadata": {},
   "outputs": [],
   "source": [
    "# Plot\n",
    "fig, ax = plt.subplots(figsize=(8,5))\n",
    "ax.hist(stock['return'], color='salmon', bins=40)\n",
    "ax.set(title='Distribution of Returns')"
   ]
  },
  {
   "cell_type": "markdown",
   "id": "e73c473f",
   "metadata": {},
   "source": [
    "The distribution of returns is almost normal except for a slight skew and fatter tail, hence Black Scholes assumption of normally distributed returns "
   ]
  },
  {
   "cell_type": "markdown",
   "id": "46a61e1d",
   "metadata": {},
   "source": [
    "## Options Data"
   ]
  },
  {
   "cell_type": "code",
   "execution_count": null,
   "id": "b1516dd5",
   "metadata": {},
   "outputs": [],
   "source": [
    "#Get expiration dates\n",
    "expiration_dates = options.get_expiration_dates(tickerSymbol)\n",
    "expiration_dates"
   ]
  },
  {
   "cell_type": "code",
   "execution_count": 7,
   "id": "1769ccee",
   "metadata": {},
   "outputs": [],
   "source": [
    "# Get options data for each expiration date\n",
    "expiration_dates= options.get_expiration_dates(tickerSymbol)\n",
    "\n",
    "options_chain = {}\n",
    "for date in expiration_dates:\n",
    "    options_chain[date] = options.get_options_chain(tickerSymbol)"
   ]
  },
  {
   "cell_type": "code",
   "execution_count": null,
   "id": "acf725ca",
   "metadata": {},
   "outputs": [],
   "source": [
    "# Options info for June 20,2022 expiration call options\n",
    "calls = options_chain['June 20, 2022']['calls']\n",
    "calls"
   ]
  },
  {
   "cell_type": "code",
   "execution_count": null,
   "id": "04a4dc68",
   "metadata": {},
   "outputs": [],
   "source": [
    "# Options info for June 20,2022 expiration put options\n",
    "puts = options_chain['June 20, 2022']['puts']\n",
    "puts"
   ]
  },
  {
   "cell_type": "markdown",
   "id": "7fb1da46",
   "metadata": {},
   "source": [
    "## Black Scholes"
   ]
  },
  {
   "cell_type": "markdown",
   "id": "724736a7",
   "metadata": {},
   "source": [
    "### Parameters"
   ]
  },
  {
   "cell_type": "code",
   "execution_count": null,
   "id": "744b1752",
   "metadata": {},
   "outputs": [],
   "source": [
    "# Spot price S (current price)\n",
    "\n",
    "S = stock['Adj Close'].iloc[-1]\n",
    "S"
   ]
  },
  {
   "cell_type": "code",
   "execution_count": 11,
   "id": "16cc6964",
   "metadata": {},
   "outputs": [],
   "source": [
    "# Strike price X \n",
    "X = 142"
   ]
  },
  {
   "cell_type": "code",
   "execution_count": null,
   "id": "f31485de",
   "metadata": {},
   "outputs": [],
   "source": [
    "# time to Maturity(T)\n",
    "expiry = '17-07-2022'\n",
    "today = datetime.now()\n",
    "T = (datetime.strptime(expiry, \"%d-%m-%Y\") - today).days/365\n",
    "T"
   ]
  },
  {
   "cell_type": "code",
   "execution_count": null,
   "id": "23c588a7",
   "metadata": {},
   "outputs": [],
   "source": [
    "# Risk-Free rate (r), we will use the US Treasury Yield '^TNX'\n",
    "r = (pdr.get_data_yahoo('^TNX')['Adj Close'].iloc[-1]) / 100\n",
    "r"
   ]
  },
  {
   "cell_type": "code",
   "execution_count": null,
   "id": "f4a4eed3",
   "metadata": {},
   "outputs": [],
   "source": [
    "# Volatility (sigma)\n",
    "\n",
    "def sigma(df):\n",
    "  daily_volatility = df['return'].std()\n",
    "  yearly_trade_days = 252\n",
    "  sigma = np.sqrt(yearly_trade_days) * daily_volatility\n",
    "  return sigma\n",
    "\n",
    "sigma(stock)"
   ]
  },
  {
   "cell_type": "code",
   "execution_count": null,
   "id": "acbe41d7",
   "metadata": {},
   "outputs": [],
   "source": [
    "## Combining all parameters in one cell\n",
    "\n",
    "# S is the current spot price of underlying stock\n",
    "S = stock['Adj Close'].iloc[-1]\n",
    "\n",
    "# X is the option strike price\n",
    "# T is the time until maturity (in fractions of a year)\n",
    "\n",
    "today = datetime.now()\n",
    "T = (datetime.strptime(expiry, \"%d-%m-%Y\") - datetime.now()).days / 365\n",
    "\n",
    "# r is the risk free rate, which we'll use as the 10-year U.S. Treasury Yield '^TNX'\n",
    "today = datetime.now()\n",
    "r = (pdr.get_data_yahoo('^TNX')['Adj Close'].iloc[-1]) / 100\n",
    "\n",
    "# sigma is the yearly returns volatility of the underlying stock\n",
    "daily_volatility = stock['return'].std()\n",
    "yearly_trade_days = 252\n",
    "sigma = np.sqrt(yearly_trade_days) * daily_volatility"
   ]
  },
  {
   "cell_type": "markdown",
   "id": "78ad3be6",
   "metadata": {},
   "source": [
    "## Defining Black Scholes function"
   ]
  },
  {
   "cell_type": "code",
   "execution_count": 16,
   "id": "7ce9c6f8",
   "metadata": {},
   "outputs": [],
   "source": [
    "# d1 is the probability of receiving the stock at expiration \n",
    "def d11(S, X, T, r, sigma):\n",
    "    return (np.log(S/X) + (r + 0.5 * sigma**2)*T) / (sigma * np.sqrt(T))\n",
    "\n",
    "# d2 is the risk-adjusted probability that the option will be exercised\n",
    "def d21(d1, T, sigma):\n",
    "    return d1 - sigma * np.sqrt(T)\n",
    "\n",
    "# Black-Scholes European option pricing formula    \n",
    "def black_scholes(S, X, T, r, sigma, option_type):\n",
    "    global d_one, d_two\n",
    "    d_one = d11(S, X, T, r, sigma)\n",
    "    d_two = d21(d_one, T, sigma)\n",
    "    if option_type == 'call':\n",
    "        return S * norm.cdf(d_one) - np.exp(-r * T) * X * norm.cdf(d_two)\n",
    "    elif option_type == 'put':\n",
    "        return -(S * norm.cdf(-d_one) - np.exp(-r * T) * X * norm.cdf(-d_two))\n",
    "    else:\n",
    "        # Raise an error if the option_type is neither a call nor a put\n",
    "        raise ValueError(\"Option type is neither 'call' or 'put'.\")"
   ]
  },
  {
   "cell_type": "markdown",
   "id": "12ba803a",
   "metadata": {},
   "source": [
    "## Option Premiums"
   ]
  },
  {
   "cell_type": "code",
   "execution_count": null,
   "id": "b75a5a78",
   "metadata": {},
   "outputs": [],
   "source": [
    "# Last 100 spot prices\n",
    "stock_spot = stock['Adj Close'][-100:]\n",
    "\n",
    "# Initialize the European put option values array\n",
    "call_option_values = np.zeros(stock_spot.size)\n",
    "put_option_values = np.zeros(stock_spot.size)\n",
    "\n",
    "# Iterate through spot prices and compute the option values\n",
    "for i,S in enumerate(stock_spot.values):\n",
    "    call_option_values[i] = black_scholes(S = S, X = X, T = T, r = r, sigma = sigma, option_type = 'call')\n",
    "    put_option_values[i] = black_scholes(S = S, X = X, T = T, r = r, sigma = sigma, option_type = 'put')\n",
    "\n",
    "options_values=pd.DataFrame({'spot_price':stock_spot, 'call_option_value':call_option_values, 'put_option_value':put_option_values})\n",
    "\n",
    "plt.figure(figsize=(12,6))\n",
    "sns.lineplot(data=options_values['spot_price'], color='turquoise')\n",
    "sns.lineplot(data=options_values['call_option_value'], color='gold')\n",
    "sns.lineplot(data=options_values['put_option_value'], color='lightcoral')\n",
    "plt.ylabel('Price', fontsize=14)\n",
    "plt.title('Stock Option Values at $142 Strike Expiring Nov 17, 2023', fontsize=18)\n",
    "plt.legend(labels=['Spot','Call','Put'])"
   ]
  },
  {
   "cell_type": "code",
   "execution_count": null,
   "id": "517d5359",
   "metadata": {},
   "outputs": [],
   "source": [
    "# Call option premium\n",
    "price_call = black_scholes(S = S, X = X, T = T, r = r, sigma = sigma, option_type = 'call')\n",
    "price_call"
   ]
  },
  {
   "cell_type": "code",
   "execution_count": null,
   "id": "c485a9b0",
   "metadata": {},
   "outputs": [],
   "source": [
    "# Put option premium\n",
    "price_put = black_scholes(S = S, X = X, T = T, r = r, sigma = sigma, option_type = 'put')\n",
    "price_put"
   ]
  },
  {
   "cell_type": "markdown",
   "id": "ffdd609b",
   "metadata": {},
   "source": [
    "## Implied Volatility"
   ]
  },
  {
   "cell_type": "code",
   "execution_count": 20,
   "id": "3e88e99a",
   "metadata": {},
   "outputs": [],
   "source": [
    "def call_implied_volatility(Price, S, X, T, r):\n",
    "    sigma = 0.001\n",
    "    while sigma < 1:\n",
    "        Price_implied = black_scholes(S=S, X=X, T=T, r=r, sigma=sigma, option_type='call')\n",
    "        if Price-(Price_implied) < 0.001:\n",
    "            return sigma\n",
    "        sigma += 0.001\n",
    "    return \"Not Found\"\n",
    "\n",
    "def put_implied_volatility(Price, S, X, T, r):\n",
    "    sigma = 0.001\n",
    "    while sigma < 1:\n",
    "        Price_implied = black_scholes(S=S, X=X, T=T, r=r, sigma=sigma, option_type='put')\n",
    "        if Price-(Price_implied) < 0.001:\n",
    "            return sigma\n",
    "        sigma += 0.001\n",
    "    return \"Not Found\""
   ]
  },
  {
   "cell_type": "code",
   "execution_count": null,
   "id": "1dd0a1a8",
   "metadata": {},
   "outputs": [],
   "source": [
    "print(\"Put Implied Volatility: \" + str(round(100 * put_implied_volatility(puts[puts['Strike']==X]['Last Price'].values[0], S, X, T, r),2))+ \" %\")"
   ]
  },
  {
   "cell_type": "markdown",
   "id": "eec9557a",
   "metadata": {},
   "source": [
    "## Volatility smile"
   ]
  },
  {
   "cell_type": "code",
   "execution_count": null,
   "id": "eeae0a52",
   "metadata": {},
   "outputs": [],
   "source": [
    "strikes = puts['Strike']\n",
    "\n",
    "# Initialize implied volatilty (IV) array\n",
    "put_IV = np.zeros(strikes.size)\n",
    "\n",
    "# Iterate through strike prices and compute the implied volatility\n",
    "for i,X in enumerate(strikes.values):\n",
    "  put_IV[i] = put_implied_volatility(puts[puts['Strike']==X]['Last Price'].values[0], S, X, T, r)\n",
    "  \n",
    "IV_values=pd.DataFrame({'strike_price':strikes, 'put_implied_volatility':put_IV})\n",
    "\n",
    "plt.figure(figsize=(8,6))\n",
    "sns.scatterplot(data=IV_values, x='strike_price', y='put_implied_volatility', color='turquoise', s=60)\n",
    "plt.xlabel('Strike Price ($)', fontsize=14)\n",
    "plt.ylabel('Implied Volatility', fontsize=14)\n",
    "plt.title('Implied Volatility for Put Option Expiring July 17, 2022', fontsize=18)"
   ]
  },
  {
   "cell_type": "markdown",
   "id": "fa76dce9",
   "metadata": {},
   "source": [
    "## Greeks"
   ]
  },
  {
   "cell_type": "code",
   "execution_count": null,
   "id": "4b5b3770",
   "metadata": {},
   "outputs": [],
   "source": [
    "# Set parameters again as we iterated through them before\n",
    "S = stock['Adj Close'].iloc[-1]\n",
    "X = 142\n",
    "T = (datetime.strptime(expiry, \"%d-%m-%Y\") - datetime.now()).days / 365\n",
    "r = (pdr.get_data_yahoo('^TNX')['Adj Close'].iloc[-1]) / 100\n",
    "sigma = np.sqrt(yearly_trade_days) * daily_volatility\n",
    "\n",
    "def put_greeks(S, X, T, r, sigma, d1):\n",
    "  # Returns dataframe of greeks \n",
    "\n",
    "  global greeks_df\n",
    "\n",
    "  delta = -norm.cdf(-d11(S,X,T,r,sigma))\n",
    "  gamma = norm.pdf(d11(S,X,T,r,sigma))/(S*sigma*sqrt(T))\n",
    "  vega = 0.01*(S*norm.pdf(d11(S,X,T,r,sigma))*sqrt(T))\n",
    "  theta = 0.01*(-(S*norm.pdf(d11(S,X,T,r,sigma))*sigma)/(2*sqrt(T)) + r*X*exp(-r*T)*norm.cdf(-d21(d1,T,sigma)))\n",
    "  rho = 0.01*(-X*T*exp(-r*T)*norm.cdf(-d21(d1,T,sigma)))\n",
    "\n",
    "  greeks_dict = {'Delta: change in option price with $1 change in underlying asset price (velocity)':delta, \n",
    "                 'Gamma: change in delta with $1 change in underlying asset price (acceleration)':gamma, \n",
    "                 'Vega: change in option price with 1% change in implied volatility':vega,\n",
    "                 'Theta: change in option price with 1 day change toward expiration (time decay)':theta,\n",
    "                 'Rho: change in option price with 1% change in interest rate':rho}\n",
    "  greeks_df = pd.DataFrame.from_dict(greeks_dict, orient='index', columns=['Greeks'])\n",
    "  return greeks_df\n",
    "\n",
    "put_greeks(S=S, X=X, T=T, r=r,sigma=sigma,d1=d_one)"
   ]
  },
  {
   "cell_type": "code",
   "execution_count": 24,
   "id": "c099e89b",
   "metadata": {},
   "outputs": [],
   "source": [
    "# Convert string dates to datetime and then to annualized form\n",
    "def convert_timestamp(x, from_pattern, to_pattern):\n",
    "  expiration_dates = datetime.strptime(x, from_pattern)\n",
    "  return datetime.strftime(expiration_dates, to_pattern)\n",
    "\n",
    "expiration_dates = [convert_timestamp(x, '%B %d, %Y', '%m-%d-%Y') for x in expiration_dates]\n",
    "expiration_dates = [((datetime.strptime(T, \"%m-%d-%Y\") - datetime.now()).days / 365) for T in expiration_dates]\n",
    "expiration_dates = pd.Series(expiration_dates)"
   ]
  },
  {
   "cell_type": "code",
   "execution_count": null,
   "id": "33096619",
   "metadata": {},
   "outputs": [],
   "source": [
    "# Initialize delta array\n",
    "put_delta = np.zeros(expiration_dates.size)\n",
    "\n",
    "# Iterate through strike prices and compute the implied volatility\n",
    "for i,T in enumerate(expiration_dates.values):\n",
    "  put_delta[i] = -norm.cdf(-d11(S,X,T,r,sigma))\n",
    "  \n",
    "delta_values=pd.DataFrame({'expiration_date':expiration_dates, 'delta':put_delta})\n",
    "\n",
    "plt.figure(figsize=(8,6))\n",
    "sns.scatterplot(data=delta_values, x='expiration_date', y='delta', color='crimson', s=150)\n",
    "plt.xlabel('Time to Expiry', fontsize=14)\n",
    "plt.ylabel('Delta', fontsize=14)\n",
    "plt.title('Delta for Put Option by Time to Expiry', fontsize=18)"
   ]
  },
  {
   "cell_type": "markdown",
   "id": "2b99e3b8",
   "metadata": {},
   "source": [
    "## Delta Hedging"
   ]
  },
  {
   "cell_type": "code",
   "execution_count": null,
   "id": "6041c03e",
   "metadata": {},
   "outputs": [],
   "source": [
    "S = stock['Adj Close'].iloc[-1]\n",
    "X = 142\n",
    "T = (datetime.strptime(expiry, \"%d-%m-%Y\") - datetime.now()).days / 365\n",
    "r = (pdr.get_data_yahoo('^TNX')['Adj Close'].iloc[-1]) / 100\n",
    "sigma = np.sqrt(yearly_trade_days) * daily_volatility\n",
    "\n",
    "def delta_neutral(shares):\n",
    "  # returns statement of number of options needed for delta hedge based on number of shares of underlying asset\n",
    "\n",
    "  asset_delta = 1\n",
    "  asset_total_delta = shares * asset_delta\n",
    "  option_delta = greeks_df.iloc[0,0]\n",
    "  option_total_delta = -asset_total_delta\n",
    "  shares_per_option = 100\n",
    "\n",
    "  global n\n",
    "  n = option_total_delta / option_delta / shares_per_option \n",
    "  \n",
    "  return print('We need to buy {} put options for a delta-neutral position.'.format(round(n)))\n",
    "\n",
    "\n",
    "delta_neutral(100)"
   ]
  },
  {
   "cell_type": "markdown",
   "id": "56848d27",
   "metadata": {},
   "source": [
    "Our delta neutral portfolio would be 100 shares of AMZN and 2 put option"
   ]
  },
  {
   "cell_type": "code",
   "execution_count": null,
   "id": "b96b59b5",
   "metadata": {},
   "outputs": [],
   "source": [
    "# Market price of put option at our strike price\n",
    "option_price = puts[puts['Strike']==X]['Last Price'].values[0]\n",
    "print('Price of put options contract is ${}'.format(option_price))\n",
    "print('Option contract value (cash outlay) to delta hedge AMZN is ${}'.format(round(n * option_price * 100),2))"
   ]
  },
  {
   "cell_type": "markdown",
   "id": "0be641bf",
   "metadata": {},
   "source": [
    "Waht if AMZN price declined by $1?"
   ]
  },
  {
   "cell_type": "code",
   "execution_count": null,
   "id": "808094f5",
   "metadata": {},
   "outputs": [],
   "source": [
    "value = black_scholes(S = S, X = X, T = T, r = r, sigma = sigma, option_type = 'put')\n",
    "option_delta = greeks_df.iloc[0,0]\n",
    "\n",
    "# Find the option value change when the price decrease by 1\n",
    "value_change = black_scholes(S = S-1, X = X, T = T, r = r, sigma = sigma, option_type = 'put') - value\n",
    "\n",
    "# Total change of both stock and option\n",
    "-1 + (value_change / abs(option_delta))"
   ]
  }
 ],
 "metadata": {
  "kernelspec": {
   "display_name": "Python 3",
   "language": "python",
   "name": "python3"
  },
  "language_info": {
   "codemirror_mode": {
    "name": "ipython",
    "version": 3
   },
   "file_extension": ".py",
   "mimetype": "text/x-python",
   "name": "python",
   "nbconvert_exporter": "python",
   "pygments_lexer": "ipython3",
   "version": "3.8.8"
  }
 },
 "nbformat": 4,
 "nbformat_minor": 5
}
